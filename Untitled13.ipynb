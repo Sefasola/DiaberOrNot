{
  "nbformat": 4,
  "nbformat_minor": 0,
  "metadata": {
    "colab": {
      "provenance": []
    },
    "kernelspec": {
      "name": "python3",
      "display_name": "Python 3"
    },
    "language_info": {
      "name": "python"
    }
  },
  "cells": [
    {
      "cell_type": "code",
      "execution_count": 29,
      "metadata": {
        "id": "l0yKMC0ndDOD"
      },
      "outputs": [],
      "source": [
        "import numpy as np\n",
        "import pandas as pd\n",
        "from sklearn.preprocessing import StandardScaler\n",
        "from sklearn.model_selection import train_test_split  # 'sklearn' yazım hatasını düzelttim\n",
        "from sklearn import svm\n",
        "from sklearn.metrics import accuracy_score\n"
      ]
    },
    {
      "cell_type": "code",
      "source": [],
      "metadata": {
        "id": "FHbmGfjfIVDX",
        "colab": {
          "base_uri": "https://localhost:8080/",
          "height": 316
        },
        "outputId": "fe98dc9a-e310-4092-da36-893b23a6d3fb"
      },
      "execution_count": 4,
      "outputs": [
        {
          "output_type": "error",
          "ename": "MessageError",
          "evalue": "Error: credential propagation was unsuccessful",
          "traceback": [
            "\u001b[0;31m---------------------------------------------------------------------------\u001b[0m",
            "\u001b[0;31mMessageError\u001b[0m                              Traceback (most recent call last)",
            "\u001b[0;32m<ipython-input-4-a503455dddf3>\u001b[0m in \u001b[0;36m<cell line: 2>\u001b[0;34m()\u001b[0m\n\u001b[1;32m      1\u001b[0m \u001b[0;32mfrom\u001b[0m \u001b[0mgoogle\u001b[0m\u001b[0;34m.\u001b[0m\u001b[0mcolab\u001b[0m \u001b[0;32mimport\u001b[0m \u001b[0mdrive\u001b[0m\u001b[0;34m\u001b[0m\u001b[0;34m\u001b[0m\u001b[0m\n\u001b[0;32m----> 2\u001b[0;31m \u001b[0mdrive\u001b[0m\u001b[0;34m.\u001b[0m\u001b[0mmount\u001b[0m\u001b[0;34m(\u001b[0m\u001b[0;34m'/content/diabetes.csv'\u001b[0m\u001b[0;34m)\u001b[0m\u001b[0;34m\u001b[0m\u001b[0;34m\u001b[0m\u001b[0m\n\u001b[0m",
            "\u001b[0;32m/usr/local/lib/python3.10/dist-packages/google/colab/drive.py\u001b[0m in \u001b[0;36mmount\u001b[0;34m(mountpoint, force_remount, timeout_ms, readonly)\u001b[0m\n\u001b[1;32m     98\u001b[0m \u001b[0;32mdef\u001b[0m \u001b[0mmount\u001b[0m\u001b[0;34m(\u001b[0m\u001b[0mmountpoint\u001b[0m\u001b[0;34m,\u001b[0m \u001b[0mforce_remount\u001b[0m\u001b[0;34m=\u001b[0m\u001b[0;32mFalse\u001b[0m\u001b[0;34m,\u001b[0m \u001b[0mtimeout_ms\u001b[0m\u001b[0;34m=\u001b[0m\u001b[0;36m120000\u001b[0m\u001b[0;34m,\u001b[0m \u001b[0mreadonly\u001b[0m\u001b[0;34m=\u001b[0m\u001b[0;32mFalse\u001b[0m\u001b[0;34m)\u001b[0m\u001b[0;34m:\u001b[0m\u001b[0;34m\u001b[0m\u001b[0;34m\u001b[0m\u001b[0m\n\u001b[1;32m     99\u001b[0m   \u001b[0;34m\"\"\"Mount your Google Drive at the specified mountpoint path.\"\"\"\u001b[0m\u001b[0;34m\u001b[0m\u001b[0;34m\u001b[0m\u001b[0m\n\u001b[0;32m--> 100\u001b[0;31m   return _mount(\n\u001b[0m\u001b[1;32m    101\u001b[0m       \u001b[0mmountpoint\u001b[0m\u001b[0;34m,\u001b[0m\u001b[0;34m\u001b[0m\u001b[0;34m\u001b[0m\u001b[0m\n\u001b[1;32m    102\u001b[0m       \u001b[0mforce_remount\u001b[0m\u001b[0;34m=\u001b[0m\u001b[0mforce_remount\u001b[0m\u001b[0;34m,\u001b[0m\u001b[0;34m\u001b[0m\u001b[0;34m\u001b[0m\u001b[0m\n",
            "\u001b[0;32m/usr/local/lib/python3.10/dist-packages/google/colab/drive.py\u001b[0m in \u001b[0;36m_mount\u001b[0;34m(mountpoint, force_remount, timeout_ms, ephemeral, readonly)\u001b[0m\n\u001b[1;32m    131\u001b[0m   )\n\u001b[1;32m    132\u001b[0m   \u001b[0;32mif\u001b[0m \u001b[0mephemeral\u001b[0m\u001b[0;34m:\u001b[0m\u001b[0;34m\u001b[0m\u001b[0;34m\u001b[0m\u001b[0m\n\u001b[0;32m--> 133\u001b[0;31m     _message.blocking_request(\n\u001b[0m\u001b[1;32m    134\u001b[0m         \u001b[0;34m'request_auth'\u001b[0m\u001b[0;34m,\u001b[0m\u001b[0;34m\u001b[0m\u001b[0;34m\u001b[0m\u001b[0m\n\u001b[1;32m    135\u001b[0m         \u001b[0mrequest\u001b[0m\u001b[0;34m=\u001b[0m\u001b[0;34m{\u001b[0m\u001b[0;34m'authType'\u001b[0m\u001b[0;34m:\u001b[0m \u001b[0;34m'dfs_ephemeral'\u001b[0m\u001b[0;34m}\u001b[0m\u001b[0;34m,\u001b[0m\u001b[0;34m\u001b[0m\u001b[0;34m\u001b[0m\u001b[0m\n",
            "\u001b[0;32m/usr/local/lib/python3.10/dist-packages/google/colab/_message.py\u001b[0m in \u001b[0;36mblocking_request\u001b[0;34m(request_type, request, timeout_sec, parent)\u001b[0m\n\u001b[1;32m    174\u001b[0m       \u001b[0mrequest_type\u001b[0m\u001b[0;34m,\u001b[0m \u001b[0mrequest\u001b[0m\u001b[0;34m,\u001b[0m \u001b[0mparent\u001b[0m\u001b[0;34m=\u001b[0m\u001b[0mparent\u001b[0m\u001b[0;34m,\u001b[0m \u001b[0mexpect_reply\u001b[0m\u001b[0;34m=\u001b[0m\u001b[0;32mTrue\u001b[0m\u001b[0;34m\u001b[0m\u001b[0;34m\u001b[0m\u001b[0m\n\u001b[1;32m    175\u001b[0m   )\n\u001b[0;32m--> 176\u001b[0;31m   \u001b[0;32mreturn\u001b[0m \u001b[0mread_reply_from_input\u001b[0m\u001b[0;34m(\u001b[0m\u001b[0mrequest_id\u001b[0m\u001b[0;34m,\u001b[0m \u001b[0mtimeout_sec\u001b[0m\u001b[0;34m)\u001b[0m\u001b[0;34m\u001b[0m\u001b[0;34m\u001b[0m\u001b[0m\n\u001b[0m",
            "\u001b[0;32m/usr/local/lib/python3.10/dist-packages/google/colab/_message.py\u001b[0m in \u001b[0;36mread_reply_from_input\u001b[0;34m(message_id, timeout_sec)\u001b[0m\n\u001b[1;32m    101\u001b[0m     ):\n\u001b[1;32m    102\u001b[0m       \u001b[0;32mif\u001b[0m \u001b[0;34m'error'\u001b[0m \u001b[0;32min\u001b[0m \u001b[0mreply\u001b[0m\u001b[0;34m:\u001b[0m\u001b[0;34m\u001b[0m\u001b[0;34m\u001b[0m\u001b[0m\n\u001b[0;32m--> 103\u001b[0;31m         \u001b[0;32mraise\u001b[0m \u001b[0mMessageError\u001b[0m\u001b[0;34m(\u001b[0m\u001b[0mreply\u001b[0m\u001b[0;34m[\u001b[0m\u001b[0;34m'error'\u001b[0m\u001b[0;34m]\u001b[0m\u001b[0;34m)\u001b[0m\u001b[0;34m\u001b[0m\u001b[0;34m\u001b[0m\u001b[0m\n\u001b[0m\u001b[1;32m    104\u001b[0m       \u001b[0;32mreturn\u001b[0m \u001b[0mreply\u001b[0m\u001b[0;34m.\u001b[0m\u001b[0mget\u001b[0m\u001b[0;34m(\u001b[0m\u001b[0;34m'data'\u001b[0m\u001b[0;34m,\u001b[0m \u001b[0;32mNone\u001b[0m\u001b[0;34m)\u001b[0m\u001b[0;34m\u001b[0m\u001b[0;34m\u001b[0m\u001b[0m\n\u001b[1;32m    105\u001b[0m \u001b[0;34m\u001b[0m\u001b[0m\n",
            "\u001b[0;31mMessageError\u001b[0m: Error: credential propagation was unsuccessful"
          ]
        }
      ]
    },
    {
      "cell_type": "code",
      "source": [
        "diabets_dataset = pd.read_csv('/content/diabetes.csv')"
      ],
      "metadata": {
        "id": "1MGuX4j9FEOV"
      },
      "execution_count": 6,
      "outputs": []
    },
    {
      "cell_type": "code",
      "source": [
        "pd.read_csv"
      ],
      "metadata": {
        "id": "n5B1FwtdGm58",
        "colab": {
          "base_uri": "https://localhost:8080/",
          "height": 645
        },
        "outputId": "aef07e03-2ed6-429e-f054-f2a571211aeb"
      },
      "execution_count": 7,
      "outputs": [
        {
          "output_type": "execute_result",
          "data": {
            "text/plain": [
              "<function pandas.io.parsers.readers.read_csv(filepath_or_buffer: 'FilePath | ReadCsvBuffer[bytes] | ReadCsvBuffer[str]', *, sep: 'str | None | lib.NoDefault' = <no_default>, delimiter: 'str | None | lib.NoDefault' = None, header: \"int | Sequence[int] | None | Literal['infer']\" = 'infer', names: 'Sequence[Hashable] | None | lib.NoDefault' = <no_default>, index_col: 'IndexLabel | Literal[False] | None' = None, usecols: 'list[HashableT] | Callable[[Hashable], bool] | None' = None, dtype: 'DtypeArg | None' = None, engine: 'CSVEngine | None' = None, converters: 'Mapping[Hashable, Callable] | None' = None, true_values: 'list | None' = None, false_values: 'list | None' = None, skipinitialspace: 'bool' = False, skiprows: 'list[int] | int | Callable[[Hashable], bool] | None' = None, skipfooter: 'int' = 0, nrows: 'int | None' = None, na_values: 'Sequence[str] | Mapping[str, Sequence[str]] | None' = None, keep_default_na: 'bool' = True, na_filter: 'bool' = True, verbose: 'bool' = False, skip_blank_lines: 'bool' = True, parse_dates: 'bool | Sequence[Hashable] | None' = None, infer_datetime_format: 'bool | lib.NoDefault' = <no_default>, keep_date_col: 'bool' = False, date_parser: 'Callable | lib.NoDefault' = <no_default>, date_format: 'str | None' = None, dayfirst: 'bool' = False, cache_dates: 'bool' = True, iterator: 'bool' = False, chunksize: 'int | None' = None, compression: 'CompressionOptions' = 'infer', thousands: 'str | None' = None, decimal: 'str' = '.', lineterminator: 'str | None' = None, quotechar: 'str' = '\"', quoting: 'int' = 0, doublequote: 'bool' = True, escapechar: 'str | None' = None, comment: 'str | None' = None, encoding: 'str | None' = None, encoding_errors: 'str | None' = 'strict', dialect: 'str | csv.Dialect | None' = None, on_bad_lines: 'str' = 'error', delim_whitespace: 'bool' = False, low_memory: 'bool' = True, memory_map: 'bool' = False, float_precision: \"Literal['high', 'legacy'] | None\" = None, storage_options: 'StorageOptions | None' = None, dtype_backend: 'DtypeBackend | lib.NoDefault' = <no_default>) -> 'DataFrame | TextFileReader'>"
            ],
            "text/html": [
              "<div style=\"max-width:800px; border: 1px solid var(--colab-border-color);\"><style>\n",
              "      pre.function-repr-contents {\n",
              "        overflow-x: auto;\n",
              "        padding: 8px 12px;\n",
              "        max-height: 500px;\n",
              "      }\n",
              "\n",
              "      pre.function-repr-contents.function-repr-contents-collapsed {\n",
              "        cursor: pointer;\n",
              "        max-height: 100px;\n",
              "      }\n",
              "    </style>\n",
              "    <pre style=\"white-space: initial; background:\n",
              "         var(--colab-secondary-surface-color); padding: 8px 12px;\n",
              "         border-bottom: 1px solid var(--colab-border-color);\"><b>pandas.io.parsers.readers.read_csv</b><br/>def read_csv(filepath_or_buffer: FilePath | ReadCsvBuffer[bytes] | ReadCsvBuffer[str], *, sep: str | None | lib.NoDefault=lib.no_default, delimiter: str | None | lib.NoDefault=None, header: int | Sequence[int] | None | Literal[&#x27;infer&#x27;]=&#x27;infer&#x27;, names: Sequence[Hashable] | None | lib.NoDefault=lib.no_default, index_col: IndexLabel | Literal[False] | None=None, usecols: list[HashableT] | Callable[[Hashable], bool] | None=None, dtype: DtypeArg | None=None, engine: CSVEngine | None=None, converters: Mapping[Hashable, Callable] | None=None, true_values: list | None=None, false_values: list | None=None, skipinitialspace: bool=False, skiprows: list[int] | int | Callable[[Hashable], bool] | None=None, skipfooter: int=0, nrows: int | None=None, na_values: Sequence[str] | Mapping[str, Sequence[str]] | None=None, keep_default_na: bool=True, na_filter: bool=True, verbose: bool=False, skip_blank_lines: bool=True, parse_dates: bool | Sequence[Hashable] | None=None, infer_datetime_format: bool | lib.NoDefault=lib.no_default, keep_date_col: bool=False, date_parser: Callable | lib.NoDefault=lib.no_default, date_format: str | None=None, dayfirst: bool=False, cache_dates: bool=True, iterator: bool=False, chunksize: int | None=None, compression: CompressionOptions=&#x27;infer&#x27;, thousands: str | None=None, decimal: str=&#x27;.&#x27;, lineterminator: str | None=None, quotechar: str=&#x27;&quot;&#x27;, quoting: int=csv.QUOTE_MINIMAL, doublequote: bool=True, escapechar: str | None=None, comment: str | None=None, encoding: str | None=None, encoding_errors: str | None=&#x27;strict&#x27;, dialect: str | csv.Dialect | None=None, on_bad_lines: str=&#x27;error&#x27;, delim_whitespace: bool=False, low_memory: bool=_c_parser_defaults[&#x27;low_memory&#x27;], memory_map: bool=False, float_precision: Literal[&#x27;high&#x27;, &#x27;legacy&#x27;] | None=None, storage_options: StorageOptions | None=None, dtype_backend: DtypeBackend | lib.NoDefault=lib.no_default) -&gt; DataFrame | TextFileReader</pre><pre class=\"function-repr-contents function-repr-contents-collapsed\" style=\"\"><a class=\"filepath\" style=\"display:none\" href=\"#\">/usr/local/lib/python3.10/dist-packages/pandas/io/parsers/readers.py</a>Read a comma-separated values (csv) file into DataFrame.\n",
              "\n",
              "Also supports optionally iterating or breaking of the file\n",
              "into chunks.\n",
              "\n",
              "Additional help can be found in the online docs for\n",
              "`IO Tools &lt;https://pandas.pydata.org/pandas-docs/stable/user_guide/io.html&gt;`_.\n",
              "\n",
              "Parameters\n",
              "----------\n",
              "filepath_or_buffer : str, path object or file-like object\n",
              "    Any valid string path is acceptable. The string could be a URL. Valid\n",
              "    URL schemes include http, ftp, s3, gs, and file. For file URLs, a host is\n",
              "    expected. A local file could be: file://localhost/path/to/table.csv.\n",
              "\n",
              "    If you want to pass in a path object, pandas accepts any ``os.PathLike``.\n",
              "\n",
              "    By file-like object, we refer to objects with a ``read()`` method, such as\n",
              "    a file handle (e.g. via builtin ``open`` function) or ``StringIO``.\n",
              "sep : str, default &#x27;,&#x27;\n",
              "    Character or regex pattern to treat as the delimiter. If ``sep=None``, the\n",
              "    C engine cannot automatically detect\n",
              "    the separator, but the Python parsing engine can, meaning the latter will\n",
              "    be used and automatically detect the separator from only the first valid\n",
              "    row of the file by Python&#x27;s builtin sniffer tool, ``csv.Sniffer``.\n",
              "    In addition, separators longer than 1 character and different from\n",
              "    ``&#x27;\\s+&#x27;`` will be interpreted as regular expressions and will also force\n",
              "    the use of the Python parsing engine. Note that regex delimiters are prone\n",
              "    to ignoring quoted data. Regex example: ``&#x27;\\r\\t&#x27;``.\n",
              "delimiter : str, optional\n",
              "    Alias for ``sep``.\n",
              "header : int, Sequence of int, &#x27;infer&#x27; or None, default &#x27;infer&#x27;\n",
              "    Row number(s) containing column labels and marking the start of the\n",
              "    data (zero-indexed). Default behavior is to infer the column names: if no ``names``\n",
              "    are passed the behavior is identical to ``header=0`` and column\n",
              "    names are inferred from the first line of the file, if column\n",
              "    names are passed explicitly to ``names`` then the behavior is identical to\n",
              "    ``header=None``. Explicitly pass ``header=0`` to be able to\n",
              "    replace existing names. The header can be a list of integers that\n",
              "    specify row locations for a :class:`~pandas.MultiIndex` on the columns\n",
              "    e.g. ``[0, 1, 3]``. Intervening rows that are not specified will be\n",
              "    skipped (e.g. 2 in this example is skipped). Note that this\n",
              "    parameter ignores commented lines and empty lines if\n",
              "    ``skip_blank_lines=True``, so ``header=0`` denotes the first line of\n",
              "    data rather than the first line of the file.\n",
              "names : Sequence of Hashable, optional\n",
              "    Sequence of column labels to apply. If the file contains a header row,\n",
              "    then you should explicitly pass ``header=0`` to override the column names.\n",
              "    Duplicates in this list are not allowed.\n",
              "index_col : Hashable, Sequence of Hashable or False, optional\n",
              "  Column(s) to use as row label(s), denoted either by column labels or column\n",
              "  indices.  If a sequence of labels or indices is given, :class:`~pandas.MultiIndex`\n",
              "  will be formed for the row labels.\n",
              "\n",
              "  Note: ``index_col=False`` can be used to force pandas to *not* use the first\n",
              "  column as the index, e.g., when you have a malformed file with delimiters at\n",
              "  the end of each line.\n",
              "usecols : list of Hashable or Callable, optional\n",
              "    Subset of columns to select, denoted either by column labels or column indices.\n",
              "    If list-like, all elements must either\n",
              "    be positional (i.e. integer indices into the document columns) or strings\n",
              "    that correspond to column names provided either by the user in ``names`` or\n",
              "    inferred from the document header row(s). If ``names`` are given, the document\n",
              "    header row(s) are not taken into account. For example, a valid list-like\n",
              "    ``usecols`` parameter would be ``[0, 1, 2]`` or ``[&#x27;foo&#x27;, &#x27;bar&#x27;, &#x27;baz&#x27;]``.\n",
              "    Element order is ignored, so ``usecols=[0, 1]`` is the same as ``[1, 0]``.\n",
              "    To instantiate a :class:`~pandas.DataFrame` from ``data`` with element order\n",
              "    preserved use ``pd.read_csv(data, usecols=[&#x27;foo&#x27;, &#x27;bar&#x27;])[[&#x27;foo&#x27;, &#x27;bar&#x27;]]``\n",
              "    for columns in ``[&#x27;foo&#x27;, &#x27;bar&#x27;]`` order or\n",
              "    ``pd.read_csv(data, usecols=[&#x27;foo&#x27;, &#x27;bar&#x27;])[[&#x27;bar&#x27;, &#x27;foo&#x27;]]``\n",
              "    for ``[&#x27;bar&#x27;, &#x27;foo&#x27;]`` order.\n",
              "\n",
              "    If callable, the callable function will be evaluated against the column\n",
              "    names, returning names where the callable function evaluates to ``True``. An\n",
              "    example of a valid callable argument would be ``lambda x: x.upper() in\n",
              "    [&#x27;AAA&#x27;, &#x27;BBB&#x27;, &#x27;DDD&#x27;]``. Using this parameter results in much faster\n",
              "    parsing time and lower memory usage.\n",
              "dtype : dtype or dict of {Hashable : dtype}, optional\n",
              "    Data type(s) to apply to either the whole dataset or individual columns.\n",
              "    E.g., ``{&#x27;a&#x27;: np.float64, &#x27;b&#x27;: np.int32, &#x27;c&#x27;: &#x27;Int64&#x27;}``\n",
              "    Use ``str`` or ``object`` together with suitable ``na_values`` settings\n",
              "    to preserve and not interpret ``dtype``.\n",
              "    If ``converters`` are specified, they will be applied INSTEAD\n",
              "    of ``dtype`` conversion.\n",
              "\n",
              "    .. versionadded:: 1.5.0\n",
              "\n",
              "        Support for ``defaultdict`` was added. Specify a ``defaultdict`` as input where\n",
              "        the default determines the ``dtype`` of the columns which are not explicitly\n",
              "        listed.\n",
              "engine : {&#x27;c&#x27;, &#x27;python&#x27;, &#x27;pyarrow&#x27;}, optional\n",
              "    Parser engine to use. The C and pyarrow engines are faster, while the python engine\n",
              "    is currently more feature-complete. Multithreading is currently only supported by\n",
              "    the pyarrow engine.\n",
              "\n",
              "    .. versionadded:: 1.4.0\n",
              "\n",
              "        The &#x27;pyarrow&#x27; engine was added as an *experimental* engine, and some features\n",
              "        are unsupported, or may not work correctly, with this engine.\n",
              "converters : dict of {Hashable : Callable}, optional\n",
              "    Functions for converting values in specified columns. Keys can either\n",
              "    be column labels or column indices.\n",
              "true_values : list, optional\n",
              "    Values to consider as ``True`` in addition to case-insensitive variants of &#x27;True&#x27;.\n",
              "false_values : list, optional\n",
              "    Values to consider as ``False`` in addition to case-insensitive variants of &#x27;False&#x27;.\n",
              "skipinitialspace : bool, default False\n",
              "    Skip spaces after delimiter.\n",
              "skiprows : int, list of int or Callable, optional\n",
              "    Line numbers to skip (0-indexed) or number of lines to skip (``int``)\n",
              "    at the start of the file.\n",
              "\n",
              "    If callable, the callable function will be evaluated against the row\n",
              "    indices, returning ``True`` if the row should be skipped and ``False`` otherwise.\n",
              "    An example of a valid callable argument would be ``lambda x: x in [0, 2]``.\n",
              "skipfooter : int, default 0\n",
              "    Number of lines at bottom of file to skip (Unsupported with ``engine=&#x27;c&#x27;``).\n",
              "nrows : int, optional\n",
              "    Number of rows of file to read. Useful for reading pieces of large files.\n",
              "na_values : Hashable, Iterable of Hashable or dict of {Hashable : Iterable}, optional\n",
              "    Additional strings to recognize as ``NA``/``NaN``. If ``dict`` passed, specific\n",
              "    per-column ``NA`` values.  By default the following values are interpreted as\n",
              "    ``NaN``: &quot; &quot;, &quot;#N/A&quot;, &quot;#N/A N/A&quot;, &quot;#NA&quot;, &quot;-1.#IND&quot;, &quot;-1.#QNAN&quot;, &quot;-NaN&quot;, &quot;-nan&quot;,\n",
              "    &quot;1.#IND&quot;, &quot;1.#QNAN&quot;, &quot;&lt;NA&gt;&quot;, &quot;N/A&quot;, &quot;NA&quot;, &quot;NULL&quot;, &quot;NaN&quot;, &quot;None&quot;,\n",
              "    &quot;n/a&quot;, &quot;nan&quot;, &quot;null &quot;.\n",
              "\n",
              "keep_default_na : bool, default True\n",
              "    Whether or not to include the default ``NaN`` values when parsing the data.\n",
              "    Depending on whether ``na_values`` is passed in, the behavior is as follows:\n",
              "\n",
              "    * If ``keep_default_na`` is ``True``, and ``na_values`` are specified, ``na_values``\n",
              "      is appended to the default ``NaN`` values used for parsing.\n",
              "    * If ``keep_default_na`` is ``True``, and ``na_values`` are not specified, only\n",
              "      the default ``NaN`` values are used for parsing.\n",
              "    * If ``keep_default_na`` is ``False``, and ``na_values`` are specified, only\n",
              "      the ``NaN`` values specified ``na_values`` are used for parsing.\n",
              "    * If ``keep_default_na`` is ``False``, and ``na_values`` are not specified, no\n",
              "      strings will be parsed as ``NaN``.\n",
              "\n",
              "    Note that if ``na_filter`` is passed in as ``False``, the ``keep_default_na`` and\n",
              "    ``na_values`` parameters will be ignored.\n",
              "na_filter : bool, default True\n",
              "    Detect missing value markers (empty strings and the value of ``na_values``). In\n",
              "    data without any ``NA`` values, passing ``na_filter=False`` can improve the\n",
              "    performance of reading a large file.\n",
              "verbose : bool, default False\n",
              "    Indicate number of ``NA`` values placed in non-numeric columns.\n",
              "skip_blank_lines : bool, default True\n",
              "    If ``True``, skip over blank lines rather than interpreting as ``NaN`` values.\n",
              "parse_dates : bool, list of Hashable, list of lists or dict of {Hashable : list}, default False\n",
              "    The behavior is as follows:\n",
              "\n",
              "    * ``bool``. If ``True`` -&gt; try parsing the index.\n",
              "    * ``list`` of ``int`` or names. e.g. If ``[1, 2, 3]`` -&gt; try parsing columns 1, 2, 3\n",
              "      each as a separate date column.\n",
              "    * ``list`` of ``list``. e.g.  If ``[[1, 3]]`` -&gt; combine columns 1 and 3 and parse\n",
              "      as a single date column.\n",
              "    * ``dict``, e.g. ``{&#x27;foo&#x27; : [1, 3]}`` -&gt; parse columns 1, 3 as date and call\n",
              "      result &#x27;foo&#x27;\n",
              "\n",
              "    If a column or index cannot be represented as an array of ``datetime``,\n",
              "    say because of an unparsable value or a mixture of timezones, the column\n",
              "    or index will be returned unaltered as an ``object`` data type. For\n",
              "    non-standard ``datetime`` parsing, use :func:`~pandas.to_datetime` after\n",
              "    :func:`~pandas.read_csv`.\n",
              "\n",
              "    Note: A fast-path exists for iso8601-formatted dates.\n",
              "infer_datetime_format : bool, default False\n",
              "    If ``True`` and ``parse_dates`` is enabled, pandas will attempt to infer the\n",
              "    format of the ``datetime`` strings in the columns, and if it can be inferred,\n",
              "    switch to a faster method of parsing them. In some cases this can increase\n",
              "    the parsing speed by 5-10x.\n",
              "\n",
              "    .. deprecated:: 2.0.0\n",
              "        A strict version of this argument is now the default, passing it has no effect.\n",
              "\n",
              "keep_date_col : bool, default False\n",
              "    If ``True`` and ``parse_dates`` specifies combining multiple columns then\n",
              "    keep the original columns.\n",
              "date_parser : Callable, optional\n",
              "    Function to use for converting a sequence of string columns to an array of\n",
              "    ``datetime`` instances. The default uses ``dateutil.parser.parser`` to do the\n",
              "    conversion. pandas will try to call ``date_parser`` in three different ways,\n",
              "    advancing to the next if an exception occurs: 1) Pass one or more arrays\n",
              "    (as defined by ``parse_dates``) as arguments; 2) concatenate (row-wise) the\n",
              "    string values from the columns defined by ``parse_dates`` into a single array\n",
              "    and pass that; and 3) call ``date_parser`` once for each row using one or\n",
              "    more strings (corresponding to the columns defined by ``parse_dates``) as\n",
              "    arguments.\n",
              "\n",
              "    .. deprecated:: 2.0.0\n",
              "       Use ``date_format`` instead, or read in as ``object`` and then apply\n",
              "       :func:`~pandas.to_datetime` as-needed.\n",
              "date_format : str or dict of column -&gt; format, optional\n",
              "   Format to use for parsing dates when used in conjunction with ``parse_dates``.\n",
              "   For anything more complex, please read in as ``object`` and then apply\n",
              "   :func:`~pandas.to_datetime` as-needed.\n",
              "\n",
              "   .. versionadded:: 2.0.0\n",
              "dayfirst : bool, default False\n",
              "    DD/MM format dates, international and European format.\n",
              "cache_dates : bool, default True\n",
              "    If ``True``, use a cache of unique, converted dates to apply the ``datetime``\n",
              "    conversion. May produce significant speed-up when parsing duplicate\n",
              "    date strings, especially ones with timezone offsets.\n",
              "\n",
              "iterator : bool, default False\n",
              "    Return ``TextFileReader`` object for iteration or getting chunks with\n",
              "    ``get_chunk()``.\n",
              "\n",
              "    .. versionchanged:: 1.2\n",
              "\n",
              "       ``TextFileReader`` is a context manager.\n",
              "chunksize : int, optional\n",
              "    Number of lines to read from the file per chunk. Passing a value will cause the\n",
              "    function to return a ``TextFileReader`` object for iteration.\n",
              "    See the `IO Tools docs\n",
              "    &lt;https://pandas.pydata.org/pandas-docs/stable/io.html#io-chunking&gt;`_\n",
              "    for more information on ``iterator`` and ``chunksize``.\n",
              "\n",
              "    .. versionchanged:: 1.2\n",
              "\n",
              "       ``TextFileReader`` is a context manager.\n",
              "compression : str or dict, default &#x27;infer&#x27;\n",
              "    For on-the-fly decompression of on-disk data. If &#x27;infer&#x27; and &#x27;filepath_or_buffer&#x27; is\n",
              "    path-like, then detect compression from the following extensions: &#x27;.gz&#x27;,\n",
              "    &#x27;.bz2&#x27;, &#x27;.zip&#x27;, &#x27;.xz&#x27;, &#x27;.zst&#x27;, &#x27;.tar&#x27;, &#x27;.tar.gz&#x27;, &#x27;.tar.xz&#x27; or &#x27;.tar.bz2&#x27;\n",
              "    (otherwise no compression).\n",
              "    If using &#x27;zip&#x27; or &#x27;tar&#x27;, the ZIP file must contain only one data file to be read in.\n",
              "    Set to ``None`` for no decompression.\n",
              "    Can also be a dict with key ``&#x27;method&#x27;`` set\n",
              "    to one of {``&#x27;zip&#x27;``, ``&#x27;gzip&#x27;``, ``&#x27;bz2&#x27;``, ``&#x27;zstd&#x27;``, ``&#x27;xz&#x27;``, ``&#x27;tar&#x27;``} and\n",
              "    other key-value pairs are forwarded to\n",
              "    ``zipfile.ZipFile``, ``gzip.GzipFile``,\n",
              "    ``bz2.BZ2File``, ``zstandard.ZstdDecompressor``, ``lzma.LZMAFile`` or\n",
              "    ``tarfile.TarFile``, respectively.\n",
              "    As an example, the following could be passed for Zstandard decompression using a\n",
              "    custom compression dictionary:\n",
              "    ``compression={&#x27;method&#x27;: &#x27;zstd&#x27;, &#x27;dict_data&#x27;: my_compression_dict}``.\n",
              "\n",
              "    .. versionadded:: 1.5.0\n",
              "        Added support for `.tar` files.\n",
              "\n",
              "    .. versionchanged:: 1.4.0 Zstandard support.\n",
              "\n",
              "thousands : str (length 1), optional\n",
              "    Character acting as the thousands separator in numerical values.\n",
              "decimal : str (length 1), default &#x27;.&#x27;\n",
              "    Character to recognize as decimal point (e.g., use &#x27;,&#x27; for European data).\n",
              "lineterminator : str (length 1), optional\n",
              "    Character used to denote a line break. Only valid with C parser.\n",
              "quotechar : str (length 1), optional\n",
              "    Character used to denote the start and end of a quoted item. Quoted\n",
              "    items can include the ``delimiter`` and it will be ignored.\n",
              "quoting : {0 or csv.QUOTE_MINIMAL, 1 or csv.QUOTE_ALL, 2 or csv.QUOTE_NONNUMERIC, 3 or csv.QUOTE_NONE}, default csv.QUOTE_MINIMAL\n",
              "    Control field quoting behavior per ``csv.QUOTE_*`` constants. Default is\n",
              "    ``csv.QUOTE_MINIMAL`` (i.e., 0) which implies that only fields containing special\n",
              "    characters are quoted (e.g., characters defined in ``quotechar``, ``delimiter``,\n",
              "    or ``lineterminator``.\n",
              "doublequote : bool, default True\n",
              "   When ``quotechar`` is specified and ``quoting`` is not ``QUOTE_NONE``, indicate\n",
              "   whether or not to interpret two consecutive ``quotechar`` elements INSIDE a\n",
              "   field as a single ``quotechar`` element.\n",
              "escapechar : str (length 1), optional\n",
              "    Character used to escape other characters.\n",
              "comment : str (length 1), optional\n",
              "    Character indicating that the remainder of line should not be parsed.\n",
              "    If found at the beginning\n",
              "    of a line, the line will be ignored altogether. This parameter must be a\n",
              "    single character. Like empty lines (as long as ``skip_blank_lines=True``),\n",
              "    fully commented lines are ignored by the parameter ``header`` but not by\n",
              "    ``skiprows``. For example, if ``comment=&#x27;#&#x27;``, parsing\n",
              "    ``#empty\\na,b,c\\n1,2,3`` with ``header=0`` will result in ``&#x27;a,b,c&#x27;`` being\n",
              "    treated as the header.\n",
              "encoding : str, optional, default &#x27;utf-8&#x27;\n",
              "    Encoding to use for UTF when reading/writing (ex. ``&#x27;utf-8&#x27;``). `List of Python\n",
              "    standard encodings\n",
              "    &lt;https://docs.python.org/3/library/codecs.html#standard-encodings&gt;`_ .\n",
              "\n",
              "    .. versionchanged:: 1.2\n",
              "\n",
              "       When ``encoding`` is ``None``, ``errors=&#x27;replace&#x27;`` is passed to\n",
              "       ``open()``. Otherwise, ``errors=&#x27;strict&#x27;`` is passed to ``open()``.\n",
              "       This behavior was previously only the case for ``engine=&#x27;python&#x27;``.\n",
              "\n",
              "    .. versionchanged:: 1.3.0\n",
              "\n",
              "       ``encoding_errors`` is a new argument. ``encoding`` has no longer an\n",
              "       influence on how encoding errors are handled.\n",
              "\n",
              "encoding_errors : str, optional, default &#x27;strict&#x27;\n",
              "    How encoding errors are treated. `List of possible values\n",
              "    &lt;https://docs.python.org/3/library/codecs.html#error-handlers&gt;`_ .\n",
              "\n",
              "    .. versionadded:: 1.3.0\n",
              "\n",
              "dialect : str or csv.Dialect, optional\n",
              "    If provided, this parameter will override values (default or not) for the\n",
              "    following parameters: ``delimiter``, ``doublequote``, ``escapechar``,\n",
              "    ``skipinitialspace``, ``quotechar``, and ``quoting``. If it is necessary to\n",
              "    override values, a ``ParserWarning`` will be issued. See ``csv.Dialect``\n",
              "    documentation for more details.\n",
              "on_bad_lines : {&#x27;error&#x27;, &#x27;warn&#x27;, &#x27;skip&#x27;} or Callable, default &#x27;error&#x27;\n",
              "    Specifies what to do upon encountering a bad line (a line with too many fields).\n",
              "    Allowed values are :\n",
              "\n",
              "    - ``&#x27;error&#x27;``, raise an Exception when a bad line is encountered.\n",
              "    - ``&#x27;warn&#x27;``, raise a warning when a bad line is encountered and skip that line.\n",
              "    - ``&#x27;skip&#x27;``, skip bad lines without raising or warning when they are encountered.\n",
              "\n",
              "    .. versionadded:: 1.3.0\n",
              "\n",
              "    .. versionadded:: 1.4.0\n",
              "\n",
              "        - Callable, function with signature\n",
              "          ``(bad_line: list[str]) -&gt; list[str] | None`` that will process a single\n",
              "          bad line. ``bad_line`` is a list of strings split by the ``sep``.\n",
              "          If the function returns ``None``, the bad line will be ignored.\n",
              "          If the function returns a new ``list`` of strings with more elements than\n",
              "          expected, a ``ParserWarning`` will be emitted while dropping extra elements.\n",
              "          Only supported when ``engine=&#x27;python&#x27;``\n",
              "\n",
              "delim_whitespace : bool, default False\n",
              "    Specifies whether or not whitespace (e.g. ``&#x27; &#x27;`` or ``&#x27;\\t&#x27;``) will be\n",
              "    used as the ``sep`` delimiter. Equivalent to setting ``sep=&#x27;\\s+&#x27;``. If this option\n",
              "    is set to ``True``, nothing should be passed in for the ``delimiter``\n",
              "    parameter.\n",
              "low_memory : bool, default True\n",
              "    Internally process the file in chunks, resulting in lower memory use\n",
              "    while parsing, but possibly mixed type inference.  To ensure no mixed\n",
              "    types either set ``False``, or specify the type with the ``dtype`` parameter.\n",
              "    Note that the entire file is read into a single :class:`~pandas.DataFrame`\n",
              "    regardless, use the ``chunksize`` or ``iterator`` parameter to return the data in\n",
              "    chunks. (Only valid with C parser).\n",
              "memory_map : bool, default False\n",
              "    If a filepath is provided for ``filepath_or_buffer``, map the file object\n",
              "    directly onto memory and access the data directly from there. Using this\n",
              "    option can improve performance because there is no longer any I/O overhead.\n",
              "float_precision : {&#x27;high&#x27;, &#x27;legacy&#x27;, &#x27;round_trip&#x27;}, optional\n",
              "    Specifies which converter the C engine should use for floating-point\n",
              "    values. The options are ``None`` or ``&#x27;high&#x27;`` for the ordinary converter,\n",
              "    ``&#x27;legacy&#x27;`` for the original lower precision pandas converter, and\n",
              "    ``&#x27;round_trip&#x27;`` for the round-trip converter.\n",
              "\n",
              "    .. versionchanged:: 1.2\n",
              "\n",
              "storage_options : dict, optional\n",
              "    Extra options that make sense for a particular storage connection, e.g.\n",
              "    host, port, username, password, etc. For HTTP(S) URLs the key-value pairs\n",
              "    are forwarded to ``urllib.request.Request`` as header options. For other\n",
              "    URLs (e.g. starting with &quot;s3://&quot;, and &quot;gcs://&quot;) the key-value pairs are\n",
              "    forwarded to ``fsspec.open``. Please see ``fsspec`` and ``urllib`` for more\n",
              "    details, and for more examples on storage options refer `here\n",
              "    &lt;https://pandas.pydata.org/docs/user_guide/io.html?\n",
              "    highlight=storage_options#reading-writing-remote-files&gt;`_.\n",
              "\n",
              "    .. versionadded:: 1.2\n",
              "\n",
              "dtype_backend : {&#x27;numpy_nullable&#x27;, &#x27;pyarrow&#x27;}, default &#x27;numpy_nullable&#x27;\n",
              "    Back-end data type applied to the resultant :class:`DataFrame`\n",
              "    (still experimental). Behaviour is as follows:\n",
              "\n",
              "    * ``&quot;numpy_nullable&quot;``: returns nullable-dtype-backed :class:`DataFrame`\n",
              "      (default).\n",
              "    * ``&quot;pyarrow&quot;``: returns pyarrow-backed nullable :class:`ArrowDtype`\n",
              "      DataFrame.\n",
              "\n",
              "    .. versionadded:: 2.0\n",
              "\n",
              "Returns\n",
              "-------\n",
              "DataFrame or TextFileReader\n",
              "    A comma-separated values (csv) file is returned as two-dimensional\n",
              "    data structure with labeled axes.\n",
              "\n",
              "See Also\n",
              "--------\n",
              "DataFrame.to_csv : Write DataFrame to a comma-separated values (csv) file.\n",
              "read_table : Read general delimited file into DataFrame.\n",
              "read_fwf : Read a table of fixed-width formatted lines into DataFrame.\n",
              "\n",
              "Examples\n",
              "--------\n",
              "&gt;&gt;&gt; pd.read_csv(&#x27;data.csv&#x27;)  # doctest: +SKIP</pre>\n",
              "      <script>\n",
              "      if (google.colab.kernel.accessAllowed && google.colab.files && google.colab.files.view) {\n",
              "        for (const element of document.querySelectorAll('.filepath')) {\n",
              "          element.style.display = 'block'\n",
              "          element.onclick = (event) => {\n",
              "            event.preventDefault();\n",
              "            event.stopPropagation();\n",
              "            google.colab.files.view(element.textContent, 848);\n",
              "          };\n",
              "        }\n",
              "      }\n",
              "      for (const element of document.querySelectorAll('.function-repr-contents')) {\n",
              "        element.onclick = (event) => {\n",
              "          event.preventDefault();\n",
              "          event.stopPropagation();\n",
              "          element.classList.toggle('function-repr-contents-collapsed');\n",
              "        };\n",
              "      }\n",
              "      </script>\n",
              "      </div>"
            ]
          },
          "metadata": {},
          "execution_count": 7
        }
      ]
    },
    {
      "cell_type": "code",
      "source": [
        "diabets_dataset.head()"
      ],
      "metadata": {
        "colab": {
          "base_uri": "https://localhost:8080/",
          "height": 224
        },
        "id": "2cH9hmxbHfPy",
        "outputId": "14406206-3c1a-40b3-94c2-0cf1e7d49ede"
      },
      "execution_count": 8,
      "outputs": [
        {
          "output_type": "execute_result",
          "data": {
            "text/plain": [
              "   Pregnancies  Glucose  BloodPressure  SkinThickness  Insulin   BMI  \\\n",
              "0            6      148             72             35        0  33.6   \n",
              "1            1       85             66             29        0  26.6   \n",
              "2            8      183             64              0        0  23.3   \n",
              "3            1       89             66             23       94  28.1   \n",
              "4            0      137             40             35      168  43.1   \n",
              "\n",
              "   DiabetesPedigreeFunction  Age  Outcome  \n",
              "0                     0.627   50        1  \n",
              "1                     0.351   31        0  \n",
              "2                     0.672   32        1  \n",
              "3                     0.167   21        0  \n",
              "4                     2.288   33        1  "
            ],
            "text/html": [
              "\n",
              "  <div id=\"df-9b59b29c-6cf6-4f95-a115-c8cfc0eb7d22\" class=\"colab-df-container\">\n",
              "    <div>\n",
              "<style scoped>\n",
              "    .dataframe tbody tr th:only-of-type {\n",
              "        vertical-align: middle;\n",
              "    }\n",
              "\n",
              "    .dataframe tbody tr th {\n",
              "        vertical-align: top;\n",
              "    }\n",
              "\n",
              "    .dataframe thead th {\n",
              "        text-align: right;\n",
              "    }\n",
              "</style>\n",
              "<table border=\"1\" class=\"dataframe\">\n",
              "  <thead>\n",
              "    <tr style=\"text-align: right;\">\n",
              "      <th></th>\n",
              "      <th>Pregnancies</th>\n",
              "      <th>Glucose</th>\n",
              "      <th>BloodPressure</th>\n",
              "      <th>SkinThickness</th>\n",
              "      <th>Insulin</th>\n",
              "      <th>BMI</th>\n",
              "      <th>DiabetesPedigreeFunction</th>\n",
              "      <th>Age</th>\n",
              "      <th>Outcome</th>\n",
              "    </tr>\n",
              "  </thead>\n",
              "  <tbody>\n",
              "    <tr>\n",
              "      <th>0</th>\n",
              "      <td>6</td>\n",
              "      <td>148</td>\n",
              "      <td>72</td>\n",
              "      <td>35</td>\n",
              "      <td>0</td>\n",
              "      <td>33.6</td>\n",
              "      <td>0.627</td>\n",
              "      <td>50</td>\n",
              "      <td>1</td>\n",
              "    </tr>\n",
              "    <tr>\n",
              "      <th>1</th>\n",
              "      <td>1</td>\n",
              "      <td>85</td>\n",
              "      <td>66</td>\n",
              "      <td>29</td>\n",
              "      <td>0</td>\n",
              "      <td>26.6</td>\n",
              "      <td>0.351</td>\n",
              "      <td>31</td>\n",
              "      <td>0</td>\n",
              "    </tr>\n",
              "    <tr>\n",
              "      <th>2</th>\n",
              "      <td>8</td>\n",
              "      <td>183</td>\n",
              "      <td>64</td>\n",
              "      <td>0</td>\n",
              "      <td>0</td>\n",
              "      <td>23.3</td>\n",
              "      <td>0.672</td>\n",
              "      <td>32</td>\n",
              "      <td>1</td>\n",
              "    </tr>\n",
              "    <tr>\n",
              "      <th>3</th>\n",
              "      <td>1</td>\n",
              "      <td>89</td>\n",
              "      <td>66</td>\n",
              "      <td>23</td>\n",
              "      <td>94</td>\n",
              "      <td>28.1</td>\n",
              "      <td>0.167</td>\n",
              "      <td>21</td>\n",
              "      <td>0</td>\n",
              "    </tr>\n",
              "    <tr>\n",
              "      <th>4</th>\n",
              "      <td>0</td>\n",
              "      <td>137</td>\n",
              "      <td>40</td>\n",
              "      <td>35</td>\n",
              "      <td>168</td>\n",
              "      <td>43.1</td>\n",
              "      <td>2.288</td>\n",
              "      <td>33</td>\n",
              "      <td>1</td>\n",
              "    </tr>\n",
              "  </tbody>\n",
              "</table>\n",
              "</div>\n",
              "    <div class=\"colab-df-buttons\">\n",
              "\n",
              "  <div class=\"colab-df-container\">\n",
              "    <button class=\"colab-df-convert\" onclick=\"convertToInteractive('df-9b59b29c-6cf6-4f95-a115-c8cfc0eb7d22')\"\n",
              "            title=\"Convert this dataframe to an interactive table.\"\n",
              "            style=\"display:none;\">\n",
              "\n",
              "  <svg xmlns=\"http://www.w3.org/2000/svg\" height=\"24px\" viewBox=\"0 -960 960 960\">\n",
              "    <path d=\"M120-120v-720h720v720H120Zm60-500h600v-160H180v160Zm220 220h160v-160H400v160Zm0 220h160v-160H400v160ZM180-400h160v-160H180v160Zm440 0h160v-160H620v160ZM180-180h160v-160H180v160Zm440 0h160v-160H620v160Z\"/>\n",
              "  </svg>\n",
              "    </button>\n",
              "\n",
              "  <style>\n",
              "    .colab-df-container {\n",
              "      display:flex;\n",
              "      gap: 12px;\n",
              "    }\n",
              "\n",
              "    .colab-df-convert {\n",
              "      background-color: #E8F0FE;\n",
              "      border: none;\n",
              "      border-radius: 50%;\n",
              "      cursor: pointer;\n",
              "      display: none;\n",
              "      fill: #1967D2;\n",
              "      height: 32px;\n",
              "      padding: 0 0 0 0;\n",
              "      width: 32px;\n",
              "    }\n",
              "\n",
              "    .colab-df-convert:hover {\n",
              "      background-color: #E2EBFA;\n",
              "      box-shadow: 0px 1px 2px rgba(60, 64, 67, 0.3), 0px 1px 3px 1px rgba(60, 64, 67, 0.15);\n",
              "      fill: #174EA6;\n",
              "    }\n",
              "\n",
              "    .colab-df-buttons div {\n",
              "      margin-bottom: 4px;\n",
              "    }\n",
              "\n",
              "    [theme=dark] .colab-df-convert {\n",
              "      background-color: #3B4455;\n",
              "      fill: #D2E3FC;\n",
              "    }\n",
              "\n",
              "    [theme=dark] .colab-df-convert:hover {\n",
              "      background-color: #434B5C;\n",
              "      box-shadow: 0px 1px 3px 1px rgba(0, 0, 0, 0.15);\n",
              "      filter: drop-shadow(0px 1px 2px rgba(0, 0, 0, 0.3));\n",
              "      fill: #FFFFFF;\n",
              "    }\n",
              "  </style>\n",
              "\n",
              "    <script>\n",
              "      const buttonEl =\n",
              "        document.querySelector('#df-9b59b29c-6cf6-4f95-a115-c8cfc0eb7d22 button.colab-df-convert');\n",
              "      buttonEl.style.display =\n",
              "        google.colab.kernel.accessAllowed ? 'block' : 'none';\n",
              "\n",
              "      async function convertToInteractive(key) {\n",
              "        const element = document.querySelector('#df-9b59b29c-6cf6-4f95-a115-c8cfc0eb7d22');\n",
              "        const dataTable =\n",
              "          await google.colab.kernel.invokeFunction('convertToInteractive',\n",
              "                                                    [key], {});\n",
              "        if (!dataTable) return;\n",
              "\n",
              "        const docLinkHtml = 'Like what you see? Visit the ' +\n",
              "          '<a target=\"_blank\" href=https://colab.research.google.com/notebooks/data_table.ipynb>data table notebook</a>'\n",
              "          + ' to learn more about interactive tables.';\n",
              "        element.innerHTML = '';\n",
              "        dataTable['output_type'] = 'display_data';\n",
              "        await google.colab.output.renderOutput(dataTable, element);\n",
              "        const docLink = document.createElement('div');\n",
              "        docLink.innerHTML = docLinkHtml;\n",
              "        element.appendChild(docLink);\n",
              "      }\n",
              "    </script>\n",
              "  </div>\n",
              "\n",
              "\n",
              "<div id=\"df-c45b9a7a-3abf-4514-86f6-faeecf40583b\">\n",
              "  <button class=\"colab-df-quickchart\" onclick=\"quickchart('df-c45b9a7a-3abf-4514-86f6-faeecf40583b')\"\n",
              "            title=\"Suggest charts\"\n",
              "            style=\"display:none;\">\n",
              "\n",
              "<svg xmlns=\"http://www.w3.org/2000/svg\" height=\"24px\"viewBox=\"0 0 24 24\"\n",
              "     width=\"24px\">\n",
              "    <g>\n",
              "        <path d=\"M19 3H5c-1.1 0-2 .9-2 2v14c0 1.1.9 2 2 2h14c1.1 0 2-.9 2-2V5c0-1.1-.9-2-2-2zM9 17H7v-7h2v7zm4 0h-2V7h2v10zm4 0h-2v-4h2v4z\"/>\n",
              "    </g>\n",
              "</svg>\n",
              "  </button>\n",
              "\n",
              "<style>\n",
              "  .colab-df-quickchart {\n",
              "      --bg-color: #E8F0FE;\n",
              "      --fill-color: #1967D2;\n",
              "      --hover-bg-color: #E2EBFA;\n",
              "      --hover-fill-color: #174EA6;\n",
              "      --disabled-fill-color: #AAA;\n",
              "      --disabled-bg-color: #DDD;\n",
              "  }\n",
              "\n",
              "  [theme=dark] .colab-df-quickchart {\n",
              "      --bg-color: #3B4455;\n",
              "      --fill-color: #D2E3FC;\n",
              "      --hover-bg-color: #434B5C;\n",
              "      --hover-fill-color: #FFFFFF;\n",
              "      --disabled-bg-color: #3B4455;\n",
              "      --disabled-fill-color: #666;\n",
              "  }\n",
              "\n",
              "  .colab-df-quickchart {\n",
              "    background-color: var(--bg-color);\n",
              "    border: none;\n",
              "    border-radius: 50%;\n",
              "    cursor: pointer;\n",
              "    display: none;\n",
              "    fill: var(--fill-color);\n",
              "    height: 32px;\n",
              "    padding: 0;\n",
              "    width: 32px;\n",
              "  }\n",
              "\n",
              "  .colab-df-quickchart:hover {\n",
              "    background-color: var(--hover-bg-color);\n",
              "    box-shadow: 0 1px 2px rgba(60, 64, 67, 0.3), 0 1px 3px 1px rgba(60, 64, 67, 0.15);\n",
              "    fill: var(--button-hover-fill-color);\n",
              "  }\n",
              "\n",
              "  .colab-df-quickchart-complete:disabled,\n",
              "  .colab-df-quickchart-complete:disabled:hover {\n",
              "    background-color: var(--disabled-bg-color);\n",
              "    fill: var(--disabled-fill-color);\n",
              "    box-shadow: none;\n",
              "  }\n",
              "\n",
              "  .colab-df-spinner {\n",
              "    border: 2px solid var(--fill-color);\n",
              "    border-color: transparent;\n",
              "    border-bottom-color: var(--fill-color);\n",
              "    animation:\n",
              "      spin 1s steps(1) infinite;\n",
              "  }\n",
              "\n",
              "  @keyframes spin {\n",
              "    0% {\n",
              "      border-color: transparent;\n",
              "      border-bottom-color: var(--fill-color);\n",
              "      border-left-color: var(--fill-color);\n",
              "    }\n",
              "    20% {\n",
              "      border-color: transparent;\n",
              "      border-left-color: var(--fill-color);\n",
              "      border-top-color: var(--fill-color);\n",
              "    }\n",
              "    30% {\n",
              "      border-color: transparent;\n",
              "      border-left-color: var(--fill-color);\n",
              "      border-top-color: var(--fill-color);\n",
              "      border-right-color: var(--fill-color);\n",
              "    }\n",
              "    40% {\n",
              "      border-color: transparent;\n",
              "      border-right-color: var(--fill-color);\n",
              "      border-top-color: var(--fill-color);\n",
              "    }\n",
              "    60% {\n",
              "      border-color: transparent;\n",
              "      border-right-color: var(--fill-color);\n",
              "    }\n",
              "    80% {\n",
              "      border-color: transparent;\n",
              "      border-right-color: var(--fill-color);\n",
              "      border-bottom-color: var(--fill-color);\n",
              "    }\n",
              "    90% {\n",
              "      border-color: transparent;\n",
              "      border-bottom-color: var(--fill-color);\n",
              "    }\n",
              "  }\n",
              "</style>\n",
              "\n",
              "  <script>\n",
              "    async function quickchart(key) {\n",
              "      const quickchartButtonEl =\n",
              "        document.querySelector('#' + key + ' button');\n",
              "      quickchartButtonEl.disabled = true;  // To prevent multiple clicks.\n",
              "      quickchartButtonEl.classList.add('colab-df-spinner');\n",
              "      try {\n",
              "        const charts = await google.colab.kernel.invokeFunction(\n",
              "            'suggestCharts', [key], {});\n",
              "      } catch (error) {\n",
              "        console.error('Error during call to suggestCharts:', error);\n",
              "      }\n",
              "      quickchartButtonEl.classList.remove('colab-df-spinner');\n",
              "      quickchartButtonEl.classList.add('colab-df-quickchart-complete');\n",
              "    }\n",
              "    (() => {\n",
              "      let quickchartButtonEl =\n",
              "        document.querySelector('#df-c45b9a7a-3abf-4514-86f6-faeecf40583b button');\n",
              "      quickchartButtonEl.style.display =\n",
              "        google.colab.kernel.accessAllowed ? 'block' : 'none';\n",
              "    })();\n",
              "  </script>\n",
              "</div>\n",
              "\n",
              "    </div>\n",
              "  </div>\n"
            ],
            "application/vnd.google.colaboratory.intrinsic+json": {
              "type": "dataframe",
              "variable_name": "diabets_dataset",
              "summary": "{\n  \"name\": \"diabets_dataset\",\n  \"rows\": 768,\n  \"fields\": [\n    {\n      \"column\": \"Pregnancies\",\n      \"properties\": {\n        \"dtype\": \"number\",\n        \"std\": 3,\n        \"min\": 0,\n        \"max\": 17,\n        \"num_unique_values\": 17,\n        \"samples\": [\n          6,\n          1,\n          3\n        ],\n        \"semantic_type\": \"\",\n        \"description\": \"\"\n      }\n    },\n    {\n      \"column\": \"Glucose\",\n      \"properties\": {\n        \"dtype\": \"number\",\n        \"std\": 31,\n        \"min\": 0,\n        \"max\": 199,\n        \"num_unique_values\": 136,\n        \"samples\": [\n          151,\n          101,\n          112\n        ],\n        \"semantic_type\": \"\",\n        \"description\": \"\"\n      }\n    },\n    {\n      \"column\": \"BloodPressure\",\n      \"properties\": {\n        \"dtype\": \"number\",\n        \"std\": 19,\n        \"min\": 0,\n        \"max\": 122,\n        \"num_unique_values\": 47,\n        \"samples\": [\n          86,\n          46,\n          85\n        ],\n        \"semantic_type\": \"\",\n        \"description\": \"\"\n      }\n    },\n    {\n      \"column\": \"SkinThickness\",\n      \"properties\": {\n        \"dtype\": \"number\",\n        \"std\": 15,\n        \"min\": 0,\n        \"max\": 99,\n        \"num_unique_values\": 51,\n        \"samples\": [\n          7,\n          12,\n          48\n        ],\n        \"semantic_type\": \"\",\n        \"description\": \"\"\n      }\n    },\n    {\n      \"column\": \"Insulin\",\n      \"properties\": {\n        \"dtype\": \"number\",\n        \"std\": 115,\n        \"min\": 0,\n        \"max\": 846,\n        \"num_unique_values\": 186,\n        \"samples\": [\n          52,\n          41,\n          183\n        ],\n        \"semantic_type\": \"\",\n        \"description\": \"\"\n      }\n    },\n    {\n      \"column\": \"BMI\",\n      \"properties\": {\n        \"dtype\": \"number\",\n        \"std\": 7.884160320375446,\n        \"min\": 0.0,\n        \"max\": 67.1,\n        \"num_unique_values\": 248,\n        \"samples\": [\n          19.9,\n          31.0,\n          38.1\n        ],\n        \"semantic_type\": \"\",\n        \"description\": \"\"\n      }\n    },\n    {\n      \"column\": \"DiabetesPedigreeFunction\",\n      \"properties\": {\n        \"dtype\": \"number\",\n        \"std\": 0.3313285950127749,\n        \"min\": 0.078,\n        \"max\": 2.42,\n        \"num_unique_values\": 517,\n        \"samples\": [\n          1.731,\n          0.426,\n          0.138\n        ],\n        \"semantic_type\": \"\",\n        \"description\": \"\"\n      }\n    },\n    {\n      \"column\": \"Age\",\n      \"properties\": {\n        \"dtype\": \"number\",\n        \"std\": 11,\n        \"min\": 21,\n        \"max\": 81,\n        \"num_unique_values\": 52,\n        \"samples\": [\n          60,\n          47,\n          72\n        ],\n        \"semantic_type\": \"\",\n        \"description\": \"\"\n      }\n    },\n    {\n      \"column\": \"Outcome\",\n      \"properties\": {\n        \"dtype\": \"number\",\n        \"std\": 0,\n        \"min\": 0,\n        \"max\": 1,\n        \"num_unique_values\": 2,\n        \"samples\": [\n          0,\n          1\n        ],\n        \"semantic_type\": \"\",\n        \"description\": \"\"\n      }\n    }\n  ]\n}"
            }
          },
          "metadata": {},
          "execution_count": 8
        }
      ]
    },
    {
      "source": [
        "# @title Glucose\n",
        "\n",
        "from matplotlib import pyplot as plt\n",
        "diabets_dataset['Glucose'].plot(kind='hist', bins=20, title='Glucose')\n",
        "plt.gca().spines[['top', 'right',]].set_visible(False)"
      ],
      "cell_type": "code",
      "execution_count": null,
      "outputs": [
        {
          "output_type": "display_data",
          "data": {
            "text/plain": [
              "<Figure size 640x480 with 1 Axes>"
            ],
            "image/png": "[encoded data removed]"
          },
          "metadata": {}
        }
      ],
      "metadata": {
        "colab": {
          "base_uri": "https://localhost:8080/",
          "height": 452
        },
        "id": "Yx-lSxlKHtSe",
        "outputId": "d6ff6180-a10a-485a-efcb-5e36372e67f8"
      }
    },
    {
      "cell_type": "code",
      "source": [
        "X = diabets_dataset.drop(columns='Outcome', axis=1)\n",
        "Y = diabets_dataset['Outcome']\n"
      ],
      "metadata": {
        "id": "Ud_XT18mb6-5"
      },
      "execution_count": 9,
      "outputs": []
    },
    {
      "cell_type": "code",
      "source": [
        "print(X)"
      ],
      "metadata": {
        "colab": {
          "base_uri": "https://localhost:8080/"
        },
        "id": "ETn-EA7ic-9c",
        "outputId": "de981af6-447a-40ad-92bb-f2488165e926"
      },
      "execution_count": 10,
      "outputs": [
        {
          "output_type": "stream",
          "name": "stdout",
          "text": [
            "     Pregnancies  Glucose  BloodPressure  SkinThickness  Insulin   BMI  \\\n",
            "0              6      148             72             35        0  33.6   \n",
            "1              1       85             66             29        0  26.6   \n",
            "2              8      183             64              0        0  23.3   \n",
            "3              1       89             66             23       94  28.1   \n",
            "4              0      137             40             35      168  43.1   \n",
            "..           ...      ...            ...            ...      ...   ...   \n",
            "763           10      101             76             48      180  32.9   \n",
            "764            2      122             70             27        0  36.8   \n",
            "765            5      121             72             23      112  26.2   \n",
            "766            1      126             60              0        0  30.1   \n",
            "767            1       93             70             31        0  30.4   \n",
            "\n",
            "     DiabetesPedigreeFunction  Age  \n",
            "0                       0.627   50  \n",
            "1                       0.351   31  \n",
            "2                       0.672   32  \n",
            "3                       0.167   21  \n",
            "4                       2.288   33  \n",
            "..                        ...  ...  \n",
            "763                     0.171   63  \n",
            "764                     0.340   27  \n",
            "765                     0.245   30  \n",
            "766                     0.349   47  \n",
            "767                     0.315   23  \n",
            "\n",
            "[768 rows x 8 columns]\n"
          ]
        }
      ]
    },
    {
      "cell_type": "code",
      "source": [
        "print(Y)"
      ],
      "metadata": {
        "colab": {
          "base_uri": "https://localhost:8080/"
        },
        "id": "jNlym4brdG2G",
        "outputId": "09a61bb4-265b-4109-f720-3b79e96239c1"
      },
      "execution_count": 11,
      "outputs": [
        {
          "output_type": "stream",
          "name": "stdout",
          "text": [
            "0      1\n",
            "1      0\n",
            "2      1\n",
            "3      0\n",
            "4      1\n",
            "      ..\n",
            "763    0\n",
            "764    0\n",
            "765    0\n",
            "766    1\n",
            "767    0\n",
            "Name: Outcome, Length: 768, dtype: int64\n"
          ]
        }
      ]
    },
    {
      "cell_type": "code",
      "source": [
        "#Data standardization\n",
        "scaler = StandardScaler()"
      ],
      "metadata": {
        "id": "BAEsmoMqdk1g"
      },
      "execution_count": 12,
      "outputs": []
    },
    {
      "cell_type": "code",
      "source": [
        "scaler.fit(X)"
      ],
      "metadata": {
        "colab": {
          "base_uri": "https://localhost:8080/",
          "height": 74
        },
        "id": "tBPrxvh1xbEP",
        "outputId": "20fc277a-8218-4a3f-b9d0-6aada6ec8693"
      },
      "execution_count": 13,
      "outputs": [
        {
          "output_type": "execute_result",
          "data": {
            "text/plain": [
              "StandardScaler()"
            ],
            "text/html": [
              "<style>#sk-container-id-1 {color: black;}#sk-container-id-1 pre{padding: 0;}#sk-container-id-1 div.sk-toggleable {background-color: white;}#sk-container-id-1 label.sk-toggleable__label {cursor: pointer;display: block;width: 100%;margin-bottom: 0;padding: 0.3em;box-sizing: border-box;text-align: center;}#sk-container-id-1 label.sk-toggleable__label-arrow:before {content: \"▸\";float: left;margin-right: 0.25em;color: #696969;}#sk-container-id-1 label.sk-toggleable__label-arrow:hover:before {color: black;}#sk-container-id-1 div.sk-estimator:hover label.sk-toggleable__label-arrow:before {color: black;}#sk-container-id-1 div.sk-toggleable__content {max-height: 0;max-width: 0;overflow: hidden;text-align: left;background-color: #f0f8ff;}#sk-container-id-1 div.sk-toggleable__content pre {margin: 0.2em;color: black;border-radius: 0.25em;background-color: #f0f8ff;}#sk-container-id-1 input.sk-toggleable__control:checked~div.sk-toggleable__content {max-height: 200px;max-width: 100%;overflow: auto;}#sk-container-id-1 input.sk-toggleable__control:checked~label.sk-toggleable__label-arrow:before {content: \"▾\";}#sk-container-id-1 div.sk-estimator input.sk-toggleable__control:checked~label.sk-toggleable__label {background-color: #d4ebff;}#sk-container-id-1 div.sk-label input.sk-toggleable__control:checked~label.sk-toggleable__label {background-color: #d4ebff;}#sk-container-id-1 input.sk-hidden--visually {border: 0;clip: rect(1px 1px 1px 1px);clip: rect(1px, 1px, 1px, 1px);height: 1px;margin: -1px;overflow: hidden;padding: 0;position: absolute;width: 1px;}#sk-container-id-1 div.sk-estimator {font-family: monospace;background-color: #f0f8ff;border: 1px dotted black;border-radius: 0.25em;box-sizing: border-box;margin-bottom: 0.5em;}#sk-container-id-1 div.sk-estimator:hover {background-color: #d4ebff;}#sk-container-id-1 div.sk-parallel-item::after {content: \"\";width: 100%;border-bottom: 1px solid gray;flex-grow: 1;}#sk-container-id-1 div.sk-label:hover label.sk-toggleable__label {background-color: #d4ebff;}#sk-container-id-1 div.sk-serial::before {content: \"\";position: absolute;border-left: 1px solid gray;box-sizing: border-box;top: 0;bottom: 0;left: 50%;z-index: 0;}#sk-container-id-1 div.sk-serial {display: flex;flex-direction: column;align-items: center;background-color: white;padding-right: 0.2em;padding-left: 0.2em;position: relative;}#sk-container-id-1 div.sk-item {position: relative;z-index: 1;}#sk-container-id-1 div.sk-parallel {display: flex;align-items: stretch;justify-content: center;background-color: white;position: relative;}#sk-container-id-1 div.sk-item::before, #sk-container-id-1 div.sk-parallel-item::before {content: \"\";position: absolute;border-left: 1px solid gray;box-sizing: border-box;top: 0;bottom: 0;left: 50%;z-index: -1;}#sk-container-id-1 div.sk-parallel-item {display: flex;flex-direction: column;z-index: 1;position: relative;background-color: white;}#sk-container-id-1 div.sk-parallel-item:first-child::after {align-self: flex-end;width: 50%;}#sk-container-id-1 div.sk-parallel-item:last-child::after {align-self: flex-start;width: 50%;}#sk-container-id-1 div.sk-parallel-item:only-child::after {width: 0;}#sk-container-id-1 div.sk-dashed-wrapped {border: 1px dashed gray;margin: 0 0.4em 0.5em 0.4em;box-sizing: border-box;padding-bottom: 0.4em;background-color: white;}#sk-container-id-1 div.sk-label label {font-family: monospace;font-weight: bold;display: inline-block;line-height: 1.2em;}#sk-container-id-1 div.sk-label-container {text-align: center;}#sk-container-id-1 div.sk-container {/* jupyter's `normalize.less` sets `[hidden] { display: none; }` but bootstrap.min.css set `[hidden] { display: none !important; }` so we also need the `!important` here to be able to override the default hidden behavior on the sphinx rendered scikit-learn.org. See: https://github.com/scikit-learn/scikit-learn/issues/21755 */display: inline-block !important;position: relative;}#sk-container-id-1 div.sk-text-repr-fallback {display: none;}</style><div id=\"sk-container-id-1\" class=\"sk-top-container\"><div class=\"sk-text-repr-fallback\"><pre>StandardScaler()</pre><b>In a Jupyter environment, please rerun this cell to show the HTML representation or trust the notebook. <br />On GitHub, the HTML representation is unable to render, please try loading this page with nbviewer.org.</b></div><div class=\"sk-container\" hidden><div class=\"sk-item\"><div class=\"sk-estimator sk-toggleable\"><input class=\"sk-toggleable__control sk-hidden--visually\" id=\"sk-estimator-id-1\" type=\"checkbox\" checked><label for=\"sk-estimator-id-1\" class=\"sk-toggleable__label sk-toggleable__label-arrow\">StandardScaler</label><div class=\"sk-toggleable__content\"><pre>StandardScaler()</pre></div></div></div></div></div>"
            ]
          },
          "metadata": {},
          "execution_count": 13
        }
      ]
    },
    {
      "cell_type": "code",
      "source": [
        "standardized_data = scaler.transform(X)"
      ],
      "metadata": {
        "id": "cXT2QSRQxgiU"
      },
      "execution_count": 14,
      "outputs": []
    },
    {
      "cell_type": "code",
      "source": [
        "print(standardized_data)"
      ],
      "metadata": {
        "colab": {
          "base_uri": "https://localhost:8080/"
        },
        "id": "VzNaqsYlH_Qt",
        "outputId": "3a0184e2-5df6-42bd-cd78-ec1c97d7e176"
      },
      "execution_count": 15,
      "outputs": [
        {
          "output_type": "stream",
          "name": "stdout",
          "text": [
            "[[ 0.63994726  0.84832379  0.14964075 ...  0.20401277  0.46849198\n",
            "   1.4259954 ]\n",
            " [-0.84488505 -1.12339636 -0.16054575 ... -0.68442195 -0.36506078\n",
            "  -0.19067191]\n",
            " [ 1.23388019  1.94372388 -0.26394125 ... -1.10325546  0.60439732\n",
            "  -0.10558415]\n",
            " ...\n",
            " [ 0.3429808   0.00330087  0.14964075 ... -0.73518964 -0.68519336\n",
            "  -0.27575966]\n",
            " [-0.84488505  0.1597866  -0.47073225 ... -0.24020459 -0.37110101\n",
            "   1.17073215]\n",
            " [-0.84488505 -0.8730192   0.04624525 ... -0.20212881 -0.47378505\n",
            "  -0.87137393]]\n"
          ]
        }
      ]
    },
    {
      "cell_type": "code",
      "source": [
        "X = standardized_data\n",
        "Y = diabets_dataset['Outcome']"
      ],
      "metadata": {
        "id": "L6rN6MNMIfxy"
      },
      "execution_count": 16,
      "outputs": []
    },
    {
      "cell_type": "code",
      "source": [
        "print(X)\n",
        "print(Y)"
      ],
      "metadata": {
        "colab": {
          "base_uri": "https://localhost:8080/"
        },
        "id": "9OvzVeFeIyMe",
        "outputId": "308d397c-ab57-4698-ede1-423da5965f9e"
      },
      "execution_count": 17,
      "outputs": [
        {
          "output_type": "stream",
          "name": "stdout",
          "text": [
            "[[ 0.63994726  0.84832379  0.14964075 ...  0.20401277  0.46849198\n",
            "   1.4259954 ]\n",
            " [-0.84488505 -1.12339636 -0.16054575 ... -0.68442195 -0.36506078\n",
            "  -0.19067191]\n",
            " [ 1.23388019  1.94372388 -0.26394125 ... -1.10325546  0.60439732\n",
            "  -0.10558415]\n",
            " ...\n",
            " [ 0.3429808   0.00330087  0.14964075 ... -0.73518964 -0.68519336\n",
            "  -0.27575966]\n",
            " [-0.84488505  0.1597866  -0.47073225 ... -0.24020459 -0.37110101\n",
            "   1.17073215]\n",
            " [-0.84488505 -0.8730192   0.04624525 ... -0.20212881 -0.47378505\n",
            "  -0.87137393]]\n",
            "0      1\n",
            "1      0\n",
            "2      1\n",
            "3      0\n",
            "4      1\n",
            "      ..\n",
            "763    0\n",
            "764    0\n",
            "765    0\n",
            "766    1\n",
            "767    0\n",
            "Name: Outcome, Length: 768, dtype: int64\n"
          ]
        }
      ]
    },
    {
      "cell_type": "code",
      "source": [
        "X_train, X_test, Y_train, Y_test = train_test_split(X, Y, test_size=0.2, stratify=Y, random_state=2)\n",
        "#"
      ],
      "metadata": {
        "id": "LPY5Iwz6JTDV"
      },
      "execution_count": 18,
      "outputs": []
    },
    {
      "cell_type": "markdown",
      "source": [
        "Training the model"
      ],
      "metadata": {
        "id": "t84UUM6ZLlR6"
      }
    },
    {
      "cell_type": "code",
      "source": [
        "classifier = svm.SVC(kernel='linear')"
      ],
      "metadata": {
        "id": "gC-q3XD9Lngn"
      },
      "execution_count": 19,
      "outputs": []
    },
    {
      "cell_type": "code",
      "source": [
        "#training the support vector machine classifier\n",
        "classifier.fit(X_train, Y_train)"
      ],
      "metadata": {
        "colab": {
          "base_uri": "https://localhost:8080/",
          "height": 74
        },
        "id": "xDrRtc0XLSIH",
        "outputId": "5fbee0aa-9b08-478f-8942-e58e7163f1db"
      },
      "execution_count": 20,
      "outputs": [
        {
          "output_type": "execute_result",
          "data": {
            "text/plain": [
              "SVC(kernel='linear')"
            ],
            "text/html": [
              "<style>#sk-container-id-2 {color: black;}#sk-container-id-2 pre{padding: 0;}#sk-container-id-2 div.sk-toggleable {background-color: white;}#sk-container-id-2 label.sk-toggleable__label {cursor: pointer;display: block;width: 100%;margin-bottom: 0;padding: 0.3em;box-sizing: border-box;text-align: center;}#sk-container-id-2 label.sk-toggleable__label-arrow:before {content: \"▸\";float: left;margin-right: 0.25em;color: #696969;}#sk-container-id-2 label.sk-toggleable__label-arrow:hover:before {color: black;}#sk-container-id-2 div.sk-estimator:hover label.sk-toggleable__label-arrow:before {color: black;}#sk-container-id-2 div.sk-toggleable__content {max-height: 0;max-width: 0;overflow: hidden;text-align: left;background-color: #f0f8ff;}#sk-container-id-2 div.sk-toggleable__content pre {margin: 0.2em;color: black;border-radius: 0.25em;background-color: #f0f8ff;}#sk-container-id-2 input.sk-toggleable__control:checked~div.sk-toggleable__content {max-height: 200px;max-width: 100%;overflow: auto;}#sk-container-id-2 input.sk-toggleable__control:checked~label.sk-toggleable__label-arrow:before {content: \"▾\";}#sk-container-id-2 div.sk-estimator input.sk-toggleable__control:checked~label.sk-toggleable__label {background-color: #d4ebff;}#sk-container-id-2 div.sk-label input.sk-toggleable__control:checked~label.sk-toggleable__label {background-color: #d4ebff;}#sk-container-id-2 input.sk-hidden--visually {border: 0;clip: rect(1px 1px 1px 1px);clip: rect(1px, 1px, 1px, 1px);height: 1px;margin: -1px;overflow: hidden;padding: 0;position: absolute;width: 1px;}#sk-container-id-2 div.sk-estimator {font-family: monospace;background-color: #f0f8ff;border: 1px dotted black;border-radius: 0.25em;box-sizing: border-box;margin-bottom: 0.5em;}#sk-container-id-2 div.sk-estimator:hover {background-color: #d4ebff;}#sk-container-id-2 div.sk-parallel-item::after {content: \"\";width: 100%;border-bottom: 1px solid gray;flex-grow: 1;}#sk-container-id-2 div.sk-label:hover label.sk-toggleable__label {background-color: #d4ebff;}#sk-container-id-2 div.sk-serial::before {content: \"\";position: absolute;border-left: 1px solid gray;box-sizing: border-box;top: 0;bottom: 0;left: 50%;z-index: 0;}#sk-container-id-2 div.sk-serial {display: flex;flex-direction: column;align-items: center;background-color: white;padding-right: 0.2em;padding-left: 0.2em;position: relative;}#sk-container-id-2 div.sk-item {position: relative;z-index: 1;}#sk-container-id-2 div.sk-parallel {display: flex;align-items: stretch;justify-content: center;background-color: white;position: relative;}#sk-container-id-2 div.sk-item::before, #sk-container-id-2 div.sk-parallel-item::before {content: \"\";position: absolute;border-left: 1px solid gray;box-sizing: border-box;top: 0;bottom: 0;left: 50%;z-index: -1;}#sk-container-id-2 div.sk-parallel-item {display: flex;flex-direction: column;z-index: 1;position: relative;background-color: white;}#sk-container-id-2 div.sk-parallel-item:first-child::after {align-self: flex-end;width: 50%;}#sk-container-id-2 div.sk-parallel-item:last-child::after {align-self: flex-start;width: 50%;}#sk-container-id-2 div.sk-parallel-item:only-child::after {width: 0;}#sk-container-id-2 div.sk-dashed-wrapped {border: 1px dashed gray;margin: 0 0.4em 0.5em 0.4em;box-sizing: border-box;padding-bottom: 0.4em;background-color: white;}#sk-container-id-2 div.sk-label label {font-family: monospace;font-weight: bold;display: inline-block;line-height: 1.2em;}#sk-container-id-2 div.sk-label-container {text-align: center;}#sk-container-id-2 div.sk-container {/* jupyter's `normalize.less` sets `[hidden] { display: none; }` but bootstrap.min.css set `[hidden] { display: none !important; }` so we also need the `!important` here to be able to override the default hidden behavior on the sphinx rendered scikit-learn.org. See: https://github.com/scikit-learn/scikit-learn/issues/21755 */display: inline-block !important;position: relative;}#sk-container-id-2 div.sk-text-repr-fallback {display: none;}</style><div id=\"sk-container-id-2\" class=\"sk-top-container\"><div class=\"sk-text-repr-fallback\"><pre>SVC(kernel=&#x27;linear&#x27;)</pre><b>In a Jupyter environment, please rerun this cell to show the HTML representation or trust the notebook. <br />On GitHub, the HTML representation is unable to render, please try loading this page with nbviewer.org.</b></div><div class=\"sk-container\" hidden><div class=\"sk-item\"><div class=\"sk-estimator sk-toggleable\"><input class=\"sk-toggleable__control sk-hidden--visually\" id=\"sk-estimator-id-2\" type=\"checkbox\" checked><label for=\"sk-estimator-id-2\" class=\"sk-toggleable__label sk-toggleable__label-arrow\">SVC</label><div class=\"sk-toggleable__content\"><pre>SVC(kernel=&#x27;linear&#x27;)</pre></div></div></div></div></div>"
            ]
          },
          "metadata": {},
          "execution_count": 20
        }
      ]
    },
    {
      "cell_type": "markdown",
      "source": [
        "Model Evaluation\n",
        "Accuracy Score"
      ],
      "metadata": {
        "id": "S8GFsDikOKwl"
      }
    },
    {
      "cell_type": "code",
      "source": [
        "X_train_prediction = classifier.predict(X_train)\n",
        "training_data_accuracy = accuracy_score(X_train_prediction, Y_train)"
      ],
      "metadata": {
        "id": "BuEub3IfOJvt"
      },
      "execution_count": 21,
      "outputs": []
    },
    {
      "cell_type": "code",
      "source": [
        "print('accuracy score of the training data: ', training_data_accuracy )"
      ],
      "metadata": {
        "colab": {
          "base_uri": "https://localhost:8080/"
        },
        "id": "qA_nI12GJLer",
        "outputId": "24d69cb1-38d6-4f07-a13a-8f0bea5e4e1b"
      },
      "execution_count": 22,
      "outputs": [
        {
          "output_type": "stream",
          "name": "stdout",
          "text": [
            "accuracy score of the training data:  0.7866449511400652\n"
          ]
        }
      ]
    },
    {
      "cell_type": "code",
      "source": [
        "#accuracy score on the training data\n",
        "X_test_prediction = classifier.predict(X_test)\n",
        "test_data_accuracy = accuracy_score(X_test_prediction, Y_test)"
      ],
      "metadata": {
        "id": "AJEKgn35MNn3"
      },
      "execution_count": 23,
      "outputs": []
    },
    {
      "cell_type": "code",
      "source": [
        "print('accuracy score of the training data: ', test_data_accuracy )"
      ],
      "metadata": {
        "colab": {
          "base_uri": "https://localhost:8080/"
        },
        "id": "KROwyQfHNknf",
        "outputId": "e1322928-fd96-4e24-9c24-c368d723e655"
      },
      "execution_count": 24,
      "outputs": [
        {
          "output_type": "stream",
          "name": "stdout",
          "text": [
            "accuracy score of the training data:  0.7727272727272727\n"
          ]
        }
      ]
    },
    {
      "cell_type": "markdown",
      "source": [
        "Making a predictive system"
      ],
      "metadata": {
        "id": "cQyNPviTPqzt"
      }
    },
    {
      "cell_type": "code",
      "source": [
        "import numpy as np\n",
        "\n",
        "input_data = (4,110,92,0,0,37.6, 0.191, 30)\n",
        "input_data_as_numpy_array = np.asarray(input_data)\n",
        "input_data_reshaped = input_data_as_numpy_array.reshape(1,-1)\n",
        "\n",
        "#standardize the input data\n",
        "sdt_Data = scaler.transform(input_data_reshaped)\n",
        "print(sdt_Data)\n",
        "\n",
        "prediction = classifier.predict(sdt_Data)\n",
        "print(prediction)\n",
        "\n"
      ],
      "metadata": {
        "colab": {
          "base_uri": "https://localhost:8080/"
        },
        "id": "E05v4em6P8FV",
        "outputId": "6cca4e30-551e-4e32-d484-18d3ab013471"
      },
      "execution_count": 28,
      "outputs": [
        {
          "output_type": "stream",
          "name": "stdout",
          "text": [
            "[[ 0.04601433 -0.34096773  1.18359575 -1.28821221 -0.69289057  0.71168975\n",
            "  -0.84827977 -0.27575966]]\n",
            "[0]\n"
          ]
        },
        {
          "output_type": "stream",
          "name": "stderr",
          "text": [
            "/usr/local/lib/python3.10/dist-packages/sklearn/base.py:465: UserWarning: X does not have valid feature names, but StandardScaler was fitted with feature names\n",
            "  warnings.warn(\n"
          ]
        }
      ]
    }
  ]
}